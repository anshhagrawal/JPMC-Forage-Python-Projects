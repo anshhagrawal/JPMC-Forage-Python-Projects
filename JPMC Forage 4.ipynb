{
 "cells": [
  {
   "cell_type": "code",
   "execution_count": 1,
   "id": "7245e57d",
   "metadata": {},
   "outputs": [
    {
     "name": "stderr",
     "output_type": "stream",
     "text": [
      "C:\\Users\\ANSH\\anaconda3\\lib\\site-packages\\scipy\\__init__.py:146: UserWarning: A NumPy version >=1.16.5 and <1.23.0 is required for this version of SciPy (detected version 1.25.2\n",
      "  warnings.warn(f\"A NumPy version >={np_minversion} and <{np_maxversion}\"\n"
     ]
    },
    {
     "ename": "ValueError",
     "evalue": "operands could not be broadcast together with shapes (5,) (9,) ",
     "output_type": "error",
     "traceback": [
      "\u001b[1;31m---------------------------------------------------------------------------\u001b[0m",
      "\u001b[1;31mValueError\u001b[0m                                Traceback (most recent call last)",
      "Input \u001b[1;32mIn [1]\u001b[0m, in \u001b[0;36m<cell line: 24>\u001b[1;34m()\u001b[0m\n\u001b[0;32m     21\u001b[0m initial_guess \u001b[38;5;241m=\u001b[39m [\u001b[38;5;241m625\u001b[39m, \u001b[38;5;241m675\u001b[39m, \u001b[38;5;241m725\u001b[39m, \u001b[38;5;241m775\u001b[39m, \u001b[38;5;241m825\u001b[39m]\n\u001b[0;32m     23\u001b[0m \u001b[38;5;66;03m# Minimize mean squared error\u001b[39;00m\n\u001b[1;32m---> 24\u001b[0m result_mse \u001b[38;5;241m=\u001b[39m \u001b[43mminimize\u001b[49m\u001b[43m(\u001b[49m\u001b[43mmean_squared_error\u001b[49m\u001b[43m,\u001b[49m\u001b[43m \u001b[49m\u001b[43minitial_guess\u001b[49m\u001b[43m,\u001b[49m\u001b[43m \u001b[49m\u001b[43margs\u001b[49m\u001b[38;5;241;43m=\u001b[39;49m\u001b[43m(\u001b[49m\u001b[43mfico_scores\u001b[49m\u001b[43m,\u001b[49m\u001b[43m)\u001b[49m\u001b[43m,\u001b[49m\u001b[43m \u001b[49m\u001b[43mmethod\u001b[49m\u001b[38;5;241;43m=\u001b[39;49m\u001b[38;5;124;43m'\u001b[39;49m\u001b[38;5;124;43mNelder-Mead\u001b[39;49m\u001b[38;5;124;43m'\u001b[39;49m\u001b[43m)\u001b[49m\n\u001b[0;32m     26\u001b[0m \u001b[38;5;66;03m# Extract optimized boundaries\u001b[39;00m\n\u001b[0;32m     27\u001b[0m optimized_boundaries_mse \u001b[38;5;241m=\u001b[39m np\u001b[38;5;241m.\u001b[39msort(result_mse\u001b[38;5;241m.\u001b[39mx)\n",
      "File \u001b[1;32m~\\anaconda3\\lib\\site-packages\\scipy\\optimize\\_minimize.py:611\u001b[0m, in \u001b[0;36mminimize\u001b[1;34m(fun, x0, args, method, jac, hess, hessp, bounds, constraints, tol, callback, options)\u001b[0m\n\u001b[0;32m    608\u001b[0m     constraints \u001b[38;5;241m=\u001b[39m standardize_constraints(constraints, x0, meth)\n\u001b[0;32m    610\u001b[0m \u001b[38;5;28;01mif\u001b[39;00m meth \u001b[38;5;241m==\u001b[39m \u001b[38;5;124m'\u001b[39m\u001b[38;5;124mnelder-mead\u001b[39m\u001b[38;5;124m'\u001b[39m:\n\u001b[1;32m--> 611\u001b[0m     \u001b[38;5;28;01mreturn\u001b[39;00m _minimize_neldermead(fun, x0, args, callback, bounds\u001b[38;5;241m=\u001b[39mbounds,\n\u001b[0;32m    612\u001b[0m                                 \u001b[38;5;241m*\u001b[39m\u001b[38;5;241m*\u001b[39moptions)\n\u001b[0;32m    613\u001b[0m \u001b[38;5;28;01melif\u001b[39;00m meth \u001b[38;5;241m==\u001b[39m \u001b[38;5;124m'\u001b[39m\u001b[38;5;124mpowell\u001b[39m\u001b[38;5;124m'\u001b[39m:\n\u001b[0;32m    614\u001b[0m     \u001b[38;5;28;01mreturn\u001b[39;00m _minimize_powell(fun, x0, args, callback, bounds, \u001b[38;5;241m*\u001b[39m\u001b[38;5;241m*\u001b[39moptions)\n",
      "File \u001b[1;32m~\\anaconda3\\lib\\site-packages\\scipy\\optimize\\optimize.py:750\u001b[0m, in \u001b[0;36m_minimize_neldermead\u001b[1;34m(func, x0, args, callback, maxiter, maxfev, disp, return_all, initial_simplex, xatol, fatol, adaptive, bounds, **unknown_options)\u001b[0m\n\u001b[0;32m    747\u001b[0m fsim \u001b[38;5;241m=\u001b[39m np\u001b[38;5;241m.\u001b[39mempty((N \u001b[38;5;241m+\u001b[39m \u001b[38;5;241m1\u001b[39m,), \u001b[38;5;28mfloat\u001b[39m)\n\u001b[0;32m    749\u001b[0m \u001b[38;5;28;01mfor\u001b[39;00m k \u001b[38;5;129;01min\u001b[39;00m \u001b[38;5;28mrange\u001b[39m(N \u001b[38;5;241m+\u001b[39m \u001b[38;5;241m1\u001b[39m):\n\u001b[1;32m--> 750\u001b[0m     fsim[k] \u001b[38;5;241m=\u001b[39m \u001b[43mfunc\u001b[49m\u001b[43m(\u001b[49m\u001b[43msim\u001b[49m\u001b[43m[\u001b[49m\u001b[43mk\u001b[49m\u001b[43m]\u001b[49m\u001b[43m)\u001b[49m\n\u001b[0;32m    752\u001b[0m ind \u001b[38;5;241m=\u001b[39m np\u001b[38;5;241m.\u001b[39margsort(fsim)\n\u001b[0;32m    753\u001b[0m fsim \u001b[38;5;241m=\u001b[39m np\u001b[38;5;241m.\u001b[39mtake(fsim, ind, \u001b[38;5;241m0\u001b[39m)\n",
      "File \u001b[1;32m~\\anaconda3\\lib\\site-packages\\scipy\\optimize\\optimize.py:464\u001b[0m, in \u001b[0;36m_wrap_function.<locals>.function_wrapper\u001b[1;34m(x, *wrapper_args)\u001b[0m\n\u001b[0;32m    462\u001b[0m \u001b[38;5;28;01mdef\u001b[39;00m \u001b[38;5;21mfunction_wrapper\u001b[39m(x, \u001b[38;5;241m*\u001b[39mwrapper_args):\n\u001b[0;32m    463\u001b[0m     ncalls[\u001b[38;5;241m0\u001b[39m] \u001b[38;5;241m+\u001b[39m\u001b[38;5;241m=\u001b[39m \u001b[38;5;241m1\u001b[39m\n\u001b[1;32m--> 464\u001b[0m     \u001b[38;5;28;01mreturn\u001b[39;00m \u001b[43mfunction\u001b[49m\u001b[43m(\u001b[49m\u001b[43mnp\u001b[49m\u001b[38;5;241;43m.\u001b[39;49m\u001b[43mcopy\u001b[49m\u001b[43m(\u001b[49m\u001b[43mx\u001b[49m\u001b[43m)\u001b[49m\u001b[43m,\u001b[49m\u001b[43m \u001b[49m\u001b[38;5;241;43m*\u001b[39;49m\u001b[43m(\u001b[49m\u001b[43mwrapper_args\u001b[49m\u001b[43m \u001b[49m\u001b[38;5;241;43m+\u001b[39;49m\u001b[43m \u001b[49m\u001b[43margs\u001b[49m\u001b[43m)\u001b[49m\u001b[43m)\u001b[49m\n",
      "Input \u001b[1;32mIn [1]\u001b[0m, in \u001b[0;36mmean_squared_error\u001b[1;34m(boundaries, fico_scores)\u001b[0m\n\u001b[0;32m     14\u001b[0m mapped_scores \u001b[38;5;241m=\u001b[39m np\u001b[38;5;241m.\u001b[39marray([np\u001b[38;5;241m.\u001b[39mmean(fico_scores[bucket_indices \u001b[38;5;241m==\u001b[39m i]) \u001b[38;5;28;01mfor\u001b[39;00m i \u001b[38;5;129;01min\u001b[39;00m \u001b[38;5;28mrange\u001b[39m(\u001b[38;5;241m1\u001b[39m, \u001b[38;5;28mlen\u001b[39m(boundaries) \u001b[38;5;241m+\u001b[39m \u001b[38;5;241m1\u001b[39m)])\n\u001b[0;32m     16\u001b[0m \u001b[38;5;66;03m# Calculate mean squared error\u001b[39;00m\n\u001b[1;32m---> 17\u001b[0m mse \u001b[38;5;241m=\u001b[39m np\u001b[38;5;241m.\u001b[39mmean((\u001b[43mmapped_scores\u001b[49m\u001b[43m \u001b[49m\u001b[38;5;241;43m-\u001b[39;49m\u001b[43m \u001b[49m\u001b[43mfico_scores\u001b[49m) \u001b[38;5;241m*\u001b[39m\u001b[38;5;241m*\u001b[39m \u001b[38;5;241m2\u001b[39m)\n\u001b[0;32m     18\u001b[0m \u001b[38;5;28;01mreturn\u001b[39;00m mse\n",
      "\u001b[1;31mValueError\u001b[0m: operands could not be broadcast together with shapes (5,) (9,) "
     ]
    }
   ],
   "source": [
    "import numpy as np\n",
    "from scipy.optimize import minimize\n",
    "\n",
    "# Sample FICO scores\n",
    "fico_scores = np.array([600, 650, 700, 720, 750, 780, 800, 820, 850])\n",
    "\n",
    "# Function to calculate mean squared error\n",
    "def mean_squared_error(boundaries, fico_scores):\n",
    "    # Sort boundaries\n",
    "    boundaries = np.sort(boundaries)\n",
    "    \n",
    "    # Map FICO scores to buckets\n",
    "    bucket_indices = np.digitize(fico_scores, boundaries)\n",
    "    mapped_scores = np.array([np.mean(fico_scores[bucket_indices == i]) for i in range(1, len(boundaries) + 1)])\n",
    "    \n",
    "    # Calculate mean squared error\n",
    "    mse = np.mean((mapped_scores - fico_scores) ** 2)\n",
    "    return mse\n",
    "\n",
    "# Initial guess for boundaries\n",
    "initial_guess = [625, 675, 725, 775, 825]\n",
    "\n",
    "# Minimize mean squared error\n",
    "result_mse = minimize(mean_squared_error, initial_guess, args=(fico_scores,), method='Nelder-Mead')\n",
    "\n",
    "# Extract optimized boundaries\n",
    "optimized_boundaries_mse = np.sort(result_mse.x)\n",
    "print(\"Optimized Boundaries (Mean Squared Error):\", optimized_boundaries_mse)\n",
    "\n",
    "# Function to calculate log-likelihood\n",
    "def log_likelihood(boundaries, fico_scores, defaults):\n",
    "    # Sort boundaries\n",
    "    boundaries = np.sort(boundaries)\n",
    "    \n",
    "    # Map FICO scores to buckets\n",
    "    bucket_indices = np.digitize(fico_scores, boundaries)\n",
    "    \n",
    "    # Calculate number of records and defaults in each bucket\n",
    "    bucket_counts = np.array([np.sum(bucket_indices == i) for i in range(1, len(boundaries) + 1)])\n",
    "    default_counts = np.array([np.sum(defaults[bucket_indices == i]) for i in range(1, len(boundaries) + 1)])\n",
    "    \n",
    "    # Calculate probabilities of default in each bucket\n",
    "    probs_default = default_counts / bucket_counts\n",
    "    \n",
    "    # Calculate log-likelihood\n",
    "    log_likelihood = np.sum(default_counts * np.log(probs_default) + (bucket_counts - default_counts) * np.log(1 - probs_default))\n",
    "    return -log_likelihood  # Minimize negative log-likelihood\n",
    "\n",
    "# Sample default data (for demonstration)\n",
    "defaults = np.array([0, 0, 1, 0, 1, 0, 1, 1, 1])  # Example: 1 indicates default, 0 indicates no default\n",
    "\n",
    "# Minimize log-likelihood\n",
    "result_ll = minimize(log_likelihood, initial_guess, args=(fico_scores, defaults), method='Nelder-Mead')\n",
    "\n",
    "# Extract optimized boundaries\n",
    "optimized_boundaries_ll = np.sort(result_ll.x)\n",
    "print(\"Optimized Boundaries (Log-Likelihood):\", optimized_boundaries_ll)\n"
   ]
  },
  {
   "cell_type": "code",
   "execution_count": null,
   "id": "926bfa84",
   "metadata": {},
   "outputs": [],
   "source": []
  }
 ],
 "metadata": {
  "kernelspec": {
   "display_name": "Python 3 (ipykernel)",
   "language": "python",
   "name": "python3"
  },
  "language_info": {
   "codemirror_mode": {
    "name": "ipython",
    "version": 3
   },
   "file_extension": ".py",
   "mimetype": "text/x-python",
   "name": "python",
   "nbconvert_exporter": "python",
   "pygments_lexer": "ipython3",
   "version": "3.9.12"
  }
 },
 "nbformat": 4,
 "nbformat_minor": 5
}
